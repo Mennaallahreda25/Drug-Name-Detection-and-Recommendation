{
 "cells": [
  {
   "cell_type": "code",
   "execution_count": 1,
   "id": "dd415c24",
   "metadata": {
    "execution": {
     "iopub.execute_input": "2024-09-28T17:03:38.570141Z",
     "iopub.status.busy": "2024-09-28T17:03:38.569725Z",
     "iopub.status.idle": "2024-09-28T17:05:31.191738Z",
     "shell.execute_reply": "2024-09-28T17:05:31.190330Z"
    },
    "papermill": {
     "duration": 112.631653,
     "end_time": "2024-09-28T17:05:31.194542",
     "exception": false,
     "start_time": "2024-09-28T17:03:38.562889",
     "status": "completed"
    },
    "tags": []
   },
   "outputs": [],
   "source": [
    "!pip install -q -U torch --index-url https://download.pytorch.org/whl/cu117\n",
    "!pip install -q -U -i https://pypi.org/simple/ bitsandbytes\n",
    "!pip install -q -U transformers\n",
    "!pip install -q -U accelerate\n",
    "!pip install -q -U datasets\n",
    "!pip install -q -U trl\n",
    "!pip install -q -U peft"
   ]
  },
  {
   "cell_type": "code",
   "execution_count": 2,
   "id": "eae45972",
   "metadata": {
    "execution": {
     "iopub.execute_input": "2024-09-28T17:05:31.206523Z",
     "iopub.status.busy": "2024-09-28T17:05:31.206165Z",
     "iopub.status.idle": "2024-09-28T17:05:36.819197Z",
     "shell.execute_reply": "2024-09-28T17:05:36.818312Z"
    },
    "papermill": {
     "duration": 5.621642,
     "end_time": "2024-09-28T17:05:36.821733",
     "exception": false,
     "start_time": "2024-09-28T17:05:31.200091",
     "status": "completed"
    },
    "tags": []
   },
   "outputs": [],
   "source": [
    "import torch\n",
    "import pandas as pd\n",
    "from transformers import AutoModelForCausalLM, AutoTokenizer, BitsAndBytesConfig\n",
    "from datasets import Dataset\n",
    "import warnings\n",
    "warnings.filterwarnings(\"ignore\")"
   ]
  },
  {
   "cell_type": "code",
   "execution_count": null,
   "id": "5665a7c2",
   "metadata": {
    "execution": {
     "iopub.execute_input": "2024-09-28T17:05:36.833346Z",
     "iopub.status.busy": "2024-09-28T17:05:36.832906Z",
     "iopub.status.idle": "2024-09-28T17:05:37.066460Z",
     "shell.execute_reply": "2024-09-28T17:05:37.065332Z"
    },
    "papermill": {
     "duration": 0.242401,
     "end_time": "2024-09-28T17:05:37.069296",
     "exception": false,
     "start_time": "2024-09-28T17:05:36.826895",
     "status": "completed"
    },
    "tags": []
   },
   "outputs": [],
   "source": [
    "df = pd.read_csv('/kaggle/input/drugs-side-effects-and-medical-condition/drugs_side_effects_drugs_com.csv')"
   ]
  },
  {
   "cell_type": "code",
   "execution_count": null,
   "id": "6711330f",
   "metadata": {
    "execution": {
     "iopub.execute_input": "2024-09-28T17:05:37.080847Z",
     "iopub.status.busy": "2024-09-28T17:05:37.080466Z",
     "iopub.status.idle": "2024-09-28T17:05:37.085230Z",
     "shell.execute_reply": "2024-09-28T17:05:37.084331Z"
    },
    "papermill": {
     "duration": 0.012378,
     "end_time": "2024-09-28T17:05:37.087342",
     "exception": false,
     "start_time": "2024-09-28T17:05:37.074964",
     "status": "completed"
    },
    "tags": []
   },
   "outputs": [],
   "source": [
    "def create_input(row):\n",
    "    medical_info = (\n",
    "        f\"Patient Info:\\n\"\n",
    "        f\"- Medical Condition: {row['medical_condition']}\\n\"\n",
    "    )\n",
    "    return medical_info"
   ]
  },
  {
   "cell_type": "code",
   "execution_count": null,
   "id": "b21d3866",
   "metadata": {
    "execution": {
     "iopub.execute_input": "2024-09-28T17:05:37.098126Z",
     "iopub.status.busy": "2024-09-28T17:05:37.097831Z",
     "iopub.status.idle": "2024-09-28T17:05:37.102737Z",
     "shell.execute_reply": "2024-09-28T17:05:37.101811Z"
    },
    "papermill": {
     "duration": 0.012977,
     "end_time": "2024-09-28T17:05:37.105006",
     "exception": false,
     "start_time": "2024-09-28T17:05:37.092029",
     "status": "completed"
    },
    "tags": []
   },
   "outputs": [],
   "source": [
    "def create_output(row):\n",
    "    output = (\n",
    "        f\"Considering your medical condition of {row['medical_condition']}, \"\n",
    "        f\"you might want to take drugs like {row['drug_name']}. \"\n",
    "        f\"This might accompany side effects such as {row['side_effects']}, so you should be aware of this when taking it. \"\n",
    "    )\n",
    "    return output\n"
   ]
  },
  {
   "cell_type": "code",
   "execution_count": null,
   "id": "071e941e",
   "metadata": {
    "execution": {
     "iopub.execute_input": "2024-09-28T17:05:37.115473Z",
     "iopub.status.busy": "2024-09-28T17:05:37.115173Z",
     "iopub.status.idle": "2024-09-28T17:05:37.222797Z",
     "shell.execute_reply": "2024-09-28T17:05:37.222000Z"
    },
    "papermill": {
     "duration": 0.115386,
     "end_time": "2024-09-28T17:05:37.224897",
     "exception": false,
     "start_time": "2024-09-28T17:05:37.109511",
     "status": "completed"
    },
    "tags": []
   },
   "outputs": [],
   "source": [
    "df['input'] = df.apply(create_input, axis=1)\n",
    "df['output'] = df.apply(create_output, axis=1)"
   ]
  },
  {
   "cell_type": "code",
   "execution_count": null,
   "id": "06a9e7bb",
   "metadata": {
    "execution": {
     "iopub.execute_input": "2024-09-28T17:05:37.235443Z",
     "iopub.status.busy": "2024-09-28T17:05:37.235144Z",
     "iopub.status.idle": "2024-09-28T17:05:37.289789Z",
     "shell.execute_reply": "2024-09-28T17:05:37.289058Z"
    },
    "papermill": {
     "duration": 0.062046,
     "end_time": "2024-09-28T17:05:37.291678",
     "exception": false,
     "start_time": "2024-09-28T17:05:37.229632",
     "status": "completed"
    },
    "tags": []
   },
   "outputs": [],
   "source": [
    "df['text'] = df.apply(lambda row: f\"input: {row['input']}\\noutput: {row['output']}\", axis=1)"
   ]
  },
  {
   "cell_type": "code",
   "execution_count": null,
   "id": "71ef74b7",
   "metadata": {
    "execution": {
     "iopub.execute_input": "2024-09-28T17:05:37.302383Z",
     "iopub.status.busy": "2024-09-28T17:05:37.301668Z",
     "iopub.status.idle": "2024-09-28T17:05:37.320033Z",
     "shell.execute_reply": "2024-09-28T17:05:37.319251Z"
    },
    "papermill": {
     "duration": 0.025914,
     "end_time": "2024-09-28T17:05:37.322065",
     "exception": false,
     "start_time": "2024-09-28T17:05:37.296151",
     "status": "completed"
    },
    "tags": []
   },
   "outputs": [],
   "source": [
    "df.dropna(subset=['input', 'output', 'text'], inplace=True)\n",
    "df = df.sample(frac=1).reset_index(drop=True)\n"
   ]
  },
  {
   "cell_type": "code",
   "execution_count": null,
   "id": "0d53f923",
   "metadata": {
    "execution": {
     "iopub.execute_input": "2024-09-28T17:05:37.333919Z",
     "iopub.status.busy": "2024-09-28T17:05:37.333407Z",
     "iopub.status.idle": "2024-09-28T17:05:37.339260Z",
     "shell.execute_reply": "2024-09-28T17:05:37.338338Z"
    },
    "papermill": {
     "duration": 0.013962,
     "end_time": "2024-09-28T17:05:37.341594",
     "exception": false,
     "start_time": "2024-09-28T17:05:37.327632",
     "status": "completed"
    },
    "tags": []
   },
   "outputs": [
    {
     "name": "stdout",
     "output_type": "stream",
     "text": [
      "Input:\n",
      "Patient Info:\n",
      "- Medical Condition: Acne\n",
      "\n",
      "\n",
      "Output:\n",
      "Considering your medical condition of Acne, you might want to take drugs like ethinyl estradiol / norethindrone. This might accompany side effects such as hives ; difficult breathing; swelling of your face, lips, tongue, or throat. This medicine may cause serious side effects. Stop using this medicine and call your doctor at once if you have: heart attack symptoms--chest pain or pressure, pain spreading to your jaw or shoulder, nausea, sweating; increased blood pressure--severe headache , blurred vision, pounding in your neck or ears, anxiety , nosebleed; signs of a stroke--sudden numbness or weakness (especially on one side of the body), sudden severe headache, slurred speech, problems with vision or balance; signs of a blood clot--sudden vision loss, stabbing chest pain, feeling short of breath, coughing up blood , pain or warmth in one or both legs; swelling or tenderness in your stomach; jaundice (yellowing of the skin or eyes); unusual vaginal bleeding, pelvic pain ; a breast lump; memory problems, confusion, unusual behavior; or high levels of calcium in your blood--nausea, vomiting, constipation , increased thirst or urination, muscle weakness, bone pain, lack of energy. Common side effects of ethinyl estradiol and norethindrone may include: stomach pain; bloating , swelling, weight gain; breast pain; light vaginal bleeding or spotting; thinning scalp hair; or headache., so you should be aware of this when taking it. \n"
     ]
    }
   ],
   "source": [
    "example_row = df.iloc[0]\n",
    "print(\"Input:\")\n",
    "print(example_row['input'])\n",
    "print(\"\\nOutput:\")\n",
    "print(example_row['output'])"
   ]
  },
  {
   "cell_type": "code",
   "execution_count": null,
   "id": "274490fc",
   "metadata": {
    "execution": {
     "iopub.execute_input": "2024-09-28T17:05:37.353534Z",
     "iopub.status.busy": "2024-09-28T17:05:37.353052Z",
     "iopub.status.idle": "2024-09-28T17:05:37.404656Z",
     "shell.execute_reply": "2024-09-28T17:05:37.403912Z"
    },
    "papermill": {
     "duration": 0.059976,
     "end_time": "2024-09-28T17:05:37.406918",
     "exception": false,
     "start_time": "2024-09-28T17:05:37.346942",
     "status": "completed"
    },
    "tags": []
   },
   "outputs": [],
   "source": [
    "train_data = Dataset.from_pandas(df[['text']])"
   ]
  },
  {
   "cell_type": "code",
   "execution_count": null,
   "id": "db8150e1",
   "metadata": {
    "execution": {
     "iopub.execute_input": "2024-09-28T17:05:37.418452Z",
     "iopub.status.busy": "2024-09-28T17:05:37.417738Z",
     "iopub.status.idle": "2024-09-28T17:05:37.423356Z",
     "shell.execute_reply": "2024-09-28T17:05:37.422484Z"
    },
    "papermill": {
     "duration": 0.01339,
     "end_time": "2024-09-28T17:05:37.425464",
     "exception": false,
     "start_time": "2024-09-28T17:05:37.412074",
     "status": "completed"
    },
    "tags": []
   },
   "outputs": [],
   "source": [
    "model_name = \"/kaggle/input/gemma/transformers/2b-it/3\"\n",
    "compute_dtype = getattr(torch, \"float16\")\n",
    "\n",
    "def load_model_and_tokenizer():\n",
    "    model = AutoModelForCausalLM.from_pretrained(\n",
    "        model_name,\n",
    "        torch_dtype=compute_dtype,\n",
    "        low_cpu_mem_usage=True,\n",
    "    )\n",
    "    tokenizer = AutoTokenizer.from_pretrained(model_name, max_seq_length=1024)\n",
    "    return model, tokenizer"
   ]
  },
  {
   "cell_type": "code",
   "execution_count": null,
   "id": "87bee015",
   "metadata": {
    "execution": {
     "iopub.execute_input": "2024-09-28T17:05:37.436229Z",
     "iopub.status.busy": "2024-09-28T17:05:37.435647Z",
     "iopub.status.idle": "2024-09-28T17:06:03.951327Z",
     "shell.execute_reply": "2024-09-28T17:06:03.950339Z"
    },
    "papermill": {
     "duration": 26.523393,
     "end_time": "2024-09-28T17:06:03.953624",
     "exception": false,
     "start_time": "2024-09-28T17:05:37.430231",
     "status": "completed"
    },
    "tags": []
   },
   "outputs": [
    {
     "name": "stderr",
     "output_type": "stream",
     "text": [
      "`config.hidden_act` is ignored, you should use `config.hidden_activation` instead.\n",
      "Gemma's activation function will be set to `gelu_pytorch_tanh`. Please, use\n",
      "`config.hidden_activation` if you want to override this behaviour.\n",
      "See https://github.com/huggingface/transformers/pull/29402 for more details.\n"
     ]
    },
    {
     "data": {
      "application/vnd.jupyter.widget-view+json": {
       "model_id": "6486ca2ad3f3440c8592c9923f19777f",
       "version_major": 2,
       "version_minor": 0
      },
      "text/plain": [
       "Loading checkpoint shards:   0%|          | 0/2 [00:00<?, ?it/s]"
      ]
     },
     "metadata": {},
     "output_type": "display_data"
    },
    {
     "data": {
      "text/plain": [
       "GemmaForCausalLM(\n",
       "  (model): GemmaModel(\n",
       "    (embed_tokens): Embedding(256000, 2048, padding_idx=0)\n",
       "    (layers): ModuleList(\n",
       "      (0-17): 18 x GemmaDecoderLayer(\n",
       "        (self_attn): GemmaSdpaAttention(\n",
       "          (q_proj): Linear(in_features=2048, out_features=2048, bias=False)\n",
       "          (k_proj): Linear(in_features=2048, out_features=256, bias=False)\n",
       "          (v_proj): Linear(in_features=2048, out_features=256, bias=False)\n",
       "          (o_proj): Linear(in_features=2048, out_features=2048, bias=False)\n",
       "          (rotary_emb): GemmaRotaryEmbedding()\n",
       "        )\n",
       "        (mlp): GemmaMLP(\n",
       "          (gate_proj): Linear(in_features=2048, out_features=16384, bias=False)\n",
       "          (up_proj): Linear(in_features=2048, out_features=16384, bias=False)\n",
       "          (down_proj): Linear(in_features=16384, out_features=2048, bias=False)\n",
       "          (act_fn): PytorchGELUTanh()\n",
       "        )\n",
       "        (input_layernorm): GemmaRMSNorm((2048,), eps=1e-06)\n",
       "        (post_attention_layernorm): GemmaRMSNorm((2048,), eps=1e-06)\n",
       "      )\n",
       "    )\n",
       "    (norm): GemmaRMSNorm((2048,), eps=1e-06)\n",
       "  )\n",
       "  (lm_head): Linear(in_features=2048, out_features=256000, bias=False)\n",
       ")"
      ]
     },
     "execution_count": 12,
     "metadata": {},
     "output_type": "execute_result"
    }
   ],
   "source": [
    "device = torch.device('cuda' if torch.cuda.is_available() else 'cpu')\n",
    "model, tokenizer = load_model_and_tokenizer()\n",
    "model.to(device)"
   ]
  },
  {
   "cell_type": "code",
   "execution_count": null,
   "id": "96060f7d",
   "metadata": {
    "execution": {
     "iopub.execute_input": "2024-09-28T17:06:03.966244Z",
     "iopub.status.busy": "2024-09-28T17:06:03.965492Z",
     "iopub.status.idle": "2024-09-28T17:06:03.970817Z",
     "shell.execute_reply": "2024-09-28T17:06:03.969999Z"
    },
    "papermill": {
     "duration": 0.01378,
     "end_time": "2024-09-28T17:06:03.972908",
     "exception": false,
     "start_time": "2024-09-28T17:06:03.959128",
     "status": "completed"
    },
    "tags": []
   },
   "outputs": [],
   "source": [
    "def get_medicine_recommendation(medical_info, model, tokenizer):\n",
    "    matching_rows = df[df['medical_condition'].str.lower() == medical_info.lower()]\n",
    "    if matching_rows.empty:\n",
    "        return f\"we do not have information about this drug.\"\n",
    "    row = matching_rows.iloc[0]\n",
    "    return create_output(row)  "
   ]
  },
  {
   "cell_type": "code",
   "execution_count": null,
   "id": "e3ef9be4",
   "metadata": {
    "execution": {
     "iopub.execute_input": "2024-09-28T17:06:03.984576Z",
     "iopub.status.busy": "2024-09-28T17:06:03.984265Z",
     "iopub.status.idle": "2024-09-28T17:06:03.994166Z",
     "shell.execute_reply": "2024-09-28T17:06:03.993073Z"
    },
    "papermill": {
     "duration": 0.018299,
     "end_time": "2024-09-28T17:06:03.996235",
     "exception": false,
     "start_time": "2024-09-28T17:06:03.977936",
     "status": "completed"
    },
    "tags": []
   },
   "outputs": [
    {
     "name": "stdout",
     "output_type": "stream",
     "text": [
      "What drug is recommended for my medical condition?\n",
      "Medical condition : Angina\n",
      "\n",
      "Generated Advice:\n",
      "Considering your medical condition of Angina, you might want to take drugs like nadolol. This might accompany side effects such as hives ; difficulty breathing; swelling of your face, lips, tongue, or throat. Nadolol may cause serious side effects. Call your doctor at once if you have: a light-headed feeling, like you might pass out; slow heartbeats; shortness of breath (even with mild exertion), swelling, rapid weight gain; or bronchospasm (wheezing, chest tightness, trouble breathing). Common side effects of nadolol may include: numbness or cold feeling in your hands or feet; dizziness; feeling tired; upset stomach , vomiting , diarrhea , constipation ; vision problems; or mood changes, confusion, memory problems., so you should be aware of this when taking it. \n"
     ]
    }
   ],
   "source": [
    "example_input = df.iloc[340]['input']\n",
    "medical_condition = example_input.split(':')[-1].strip() \n",
    "\n",
    "print(\"What drug is recommended for my medical condition?\")\n",
    "print(f\"Medical condition : {medical_condition}\")\n",
    "print(\"\\nGenerated Advice:\")\n",
    "print(get_medicine_recommendation(medical_condition, model, tokenizer))"
   ]
  }
 ],
 "metadata": {
  "kaggle": {
   "accelerator": "nvidiaTeslaT4",
   "dataSources": [
    {
     "datasetId": 2720233,
     "sourceId": 4701313,
     "sourceType": "datasetVersion"
    },
    {
     "modelId": 3301,
     "modelInstanceId": 8318,
     "sourceId": 28785,
     "sourceType": "modelInstanceVersion"
    }
   ],
   "isGpuEnabled": true,
   "isInternetEnabled": true,
   "language": "python",
   "sourceType": "notebook"
  },
  "kernelspec": {
   "display_name": "Python 3",
   "language": "python",
   "name": "python3"
  },
  "language_info": {
   "codemirror_mode": {
    "name": "ipython",
    "version": 3
   },
   "file_extension": ".py",
   "mimetype": "text/x-python",
   "name": "python",
   "nbconvert_exporter": "python",
   "pygments_lexer": "ipython3",
   "version": "3.10.14"
  },
  "papermill": {
   "default_parameters": {},
   "duration": 150.77873,
   "end_time": "2024-09-28T17:06:06.516384",
   "environment_variables": {},
   "exception": null,
   "input_path": "__notebook__.ipynb",
   "output_path": "__notebook__.ipynb",
   "parameters": {},
   "start_time": "2024-09-28T17:03:35.737654",
   "version": "2.6.0"
  },
  "widgets": {
   "application/vnd.jupyter.widget-state+json": {
    "state": {
     "177a4e7efee24acdb463d15e5080c2ab": {
      "model_module": "@jupyter-widgets/base",
      "model_module_version": "1.2.0",
      "model_name": "LayoutModel",
      "state": {
       "_model_module": "@jupyter-widgets/base",
       "_model_module_version": "1.2.0",
       "_model_name": "LayoutModel",
       "_view_count": null,
       "_view_module": "@jupyter-widgets/base",
       "_view_module_version": "1.2.0",
       "_view_name": "LayoutView",
       "align_content": null,
       "align_items": null,
       "align_self": null,
       "border": null,
       "bottom": null,
       "display": null,
       "flex": null,
       "flex_flow": null,
       "grid_area": null,
       "grid_auto_columns": null,
       "grid_auto_flow": null,
       "grid_auto_rows": null,
       "grid_column": null,
       "grid_gap": null,
       "grid_row": null,
       "grid_template_areas": null,
       "grid_template_columns": null,
       "grid_template_rows": null,
       "height": null,
       "justify_content": null,
       "justify_items": null,
       "left": null,
       "margin": null,
       "max_height": null,
       "max_width": null,
       "min_height": null,
       "min_width": null,
       "object_fit": null,
       "object_position": null,
       "order": null,
       "overflow": null,
       "overflow_x": null,
       "overflow_y": null,
       "padding": null,
       "right": null,
       "top": null,
       "visibility": null,
       "width": null
      }
     },
     "3c91fb18a334494c8365d0d8e0aab2c9": {
      "model_module": "@jupyter-widgets/controls",
      "model_module_version": "1.5.0",
      "model_name": "ProgressStyleModel",
      "state": {
       "_model_module": "@jupyter-widgets/controls",
       "_model_module_version": "1.5.0",
       "_model_name": "ProgressStyleModel",
       "_view_count": null,
       "_view_module": "@jupyter-widgets/base",
       "_view_module_version": "1.2.0",
       "_view_name": "StyleView",
       "bar_color": null,
       "description_width": ""
      }
     },
     "6486ca2ad3f3440c8592c9923f19777f": {
      "model_module": "@jupyter-widgets/controls",
      "model_module_version": "1.5.0",
      "model_name": "HBoxModel",
      "state": {
       "_dom_classes": [],
       "_model_module": "@jupyter-widgets/controls",
       "_model_module_version": "1.5.0",
       "_model_name": "HBoxModel",
       "_view_count": null,
       "_view_module": "@jupyter-widgets/controls",
       "_view_module_version": "1.5.0",
       "_view_name": "HBoxView",
       "box_style": "",
       "children": [
        "IPY_MODEL_a222359fa39f41bea5e418f0e1e49b3e",
        "IPY_MODEL_e2b5db2bf2b14aad944bb920af0f0ec1",
        "IPY_MODEL_d1d619b3c2a24410aa1dbb4e8d6d88fc"
       ],
       "layout": "IPY_MODEL_812ac86fce554306bd45314eddccb0d0"
      }
     },
     "812ac86fce554306bd45314eddccb0d0": {
      "model_module": "@jupyter-widgets/base",
      "model_module_version": "1.2.0",
      "model_name": "LayoutModel",
      "state": {
       "_model_module": "@jupyter-widgets/base",
       "_model_module_version": "1.2.0",
       "_model_name": "LayoutModel",
       "_view_count": null,
       "_view_module": "@jupyter-widgets/base",
       "_view_module_version": "1.2.0",
       "_view_name": "LayoutView",
       "align_content": null,
       "align_items": null,
       "align_self": null,
       "border": null,
       "bottom": null,
       "display": null,
       "flex": null,
       "flex_flow": null,
       "grid_area": null,
       "grid_auto_columns": null,
       "grid_auto_flow": null,
       "grid_auto_rows": null,
       "grid_column": null,
       "grid_gap": null,
       "grid_row": null,
       "grid_template_areas": null,
       "grid_template_columns": null,
       "grid_template_rows": null,
       "height": null,
       "justify_content": null,
       "justify_items": null,
       "left": null,
       "margin": null,
       "max_height": null,
       "max_width": null,
       "min_height": null,
       "min_width": null,
       "object_fit": null,
       "object_position": null,
       "order": null,
       "overflow": null,
       "overflow_x": null,
       "overflow_y": null,
       "padding": null,
       "right": null,
       "top": null,
       "visibility": null,
       "width": null
      }
     },
     "837b0707984c4f64ac1c746dff6934da": {
      "model_module": "@jupyter-widgets/base",
      "model_module_version": "1.2.0",
      "model_name": "LayoutModel",
      "state": {
       "_model_module": "@jupyter-widgets/base",
       "_model_module_version": "1.2.0",
       "_model_name": "LayoutModel",
       "_view_count": null,
       "_view_module": "@jupyter-widgets/base",
       "_view_module_version": "1.2.0",
       "_view_name": "LayoutView",
       "align_content": null,
       "align_items": null,
       "align_self": null,
       "border": null,
       "bottom": null,
       "display": null,
       "flex": null,
       "flex_flow": null,
       "grid_area": null,
       "grid_auto_columns": null,
       "grid_auto_flow": null,
       "grid_auto_rows": null,
       "grid_column": null,
       "grid_gap": null,
       "grid_row": null,
       "grid_template_areas": null,
       "grid_template_columns": null,
       "grid_template_rows": null,
       "height": null,
       "justify_content": null,
       "justify_items": null,
       "left": null,
       "margin": null,
       "max_height": null,
       "max_width": null,
       "min_height": null,
       "min_width": null,
       "object_fit": null,
       "object_position": null,
       "order": null,
       "overflow": null,
       "overflow_x": null,
       "overflow_y": null,
       "padding": null,
       "right": null,
       "top": null,
       "visibility": null,
       "width": null
      }
     },
     "91a44b62f9674ff494dc73503788f854": {
      "model_module": "@jupyter-widgets/controls",
      "model_module_version": "1.5.0",
      "model_name": "DescriptionStyleModel",
      "state": {
       "_model_module": "@jupyter-widgets/controls",
       "_model_module_version": "1.5.0",
       "_model_name": "DescriptionStyleModel",
       "_view_count": null,
       "_view_module": "@jupyter-widgets/base",
       "_view_module_version": "1.2.0",
       "_view_name": "StyleView",
       "description_width": ""
      }
     },
     "a02c5505caa547b395e20dec317e45dd": {
      "model_module": "@jupyter-widgets/controls",
      "model_module_version": "1.5.0",
      "model_name": "DescriptionStyleModel",
      "state": {
       "_model_module": "@jupyter-widgets/controls",
       "_model_module_version": "1.5.0",
       "_model_name": "DescriptionStyleModel",
       "_view_count": null,
       "_view_module": "@jupyter-widgets/base",
       "_view_module_version": "1.2.0",
       "_view_name": "StyleView",
       "description_width": ""
      }
     },
     "a222359fa39f41bea5e418f0e1e49b3e": {
      "model_module": "@jupyter-widgets/controls",
      "model_module_version": "1.5.0",
      "model_name": "HTMLModel",
      "state": {
       "_dom_classes": [],
       "_model_module": "@jupyter-widgets/controls",
       "_model_module_version": "1.5.0",
       "_model_name": "HTMLModel",
       "_view_count": null,
       "_view_module": "@jupyter-widgets/controls",
       "_view_module_version": "1.5.0",
       "_view_name": "HTMLView",
       "description": "",
       "description_tooltip": null,
       "layout": "IPY_MODEL_f13eb8e7c2db4ef4b6d6e5c48f0f372f",
       "placeholder": "​",
       "style": "IPY_MODEL_91a44b62f9674ff494dc73503788f854",
       "value": "Loading checkpoint shards: 100%"
      }
     },
     "d1d619b3c2a24410aa1dbb4e8d6d88fc": {
      "model_module": "@jupyter-widgets/controls",
      "model_module_version": "1.5.0",
      "model_name": "HTMLModel",
      "state": {
       "_dom_classes": [],
       "_model_module": "@jupyter-widgets/controls",
       "_model_module_version": "1.5.0",
       "_model_name": "HTMLModel",
       "_view_count": null,
       "_view_module": "@jupyter-widgets/controls",
       "_view_module_version": "1.5.0",
       "_view_name": "HTMLView",
       "description": "",
       "description_tooltip": null,
       "layout": "IPY_MODEL_177a4e7efee24acdb463d15e5080c2ab",
       "placeholder": "​",
       "style": "IPY_MODEL_a02c5505caa547b395e20dec317e45dd",
       "value": " 2/2 [00:22&lt;00:00,  9.40s/it]"
      }
     },
     "e2b5db2bf2b14aad944bb920af0f0ec1": {
      "model_module": "@jupyter-widgets/controls",
      "model_module_version": "1.5.0",
      "model_name": "FloatProgressModel",
      "state": {
       "_dom_classes": [],
       "_model_module": "@jupyter-widgets/controls",
       "_model_module_version": "1.5.0",
       "_model_name": "FloatProgressModel",
       "_view_count": null,
       "_view_module": "@jupyter-widgets/controls",
       "_view_module_version": "1.5.0",
       "_view_name": "ProgressView",
       "bar_style": "success",
       "description": "",
       "description_tooltip": null,
       "layout": "IPY_MODEL_837b0707984c4f64ac1c746dff6934da",
       "max": 2,
       "min": 0,
       "orientation": "horizontal",
       "style": "IPY_MODEL_3c91fb18a334494c8365d0d8e0aab2c9",
       "value": 2
      }
     },
     "f13eb8e7c2db4ef4b6d6e5c48f0f372f": {
      "model_module": "@jupyter-widgets/base",
      "model_module_version": "1.2.0",
      "model_name": "LayoutModel",
      "state": {
       "_model_module": "@jupyter-widgets/base",
       "_model_module_version": "1.2.0",
       "_model_name": "LayoutModel",
       "_view_count": null,
       "_view_module": "@jupyter-widgets/base",
       "_view_module_version": "1.2.0",
       "_view_name": "LayoutView",
       "align_content": null,
       "align_items": null,
       "align_self": null,
       "border": null,
       "bottom": null,
       "display": null,
       "flex": null,
       "flex_flow": null,
       "grid_area": null,
       "grid_auto_columns": null,
       "grid_auto_flow": null,
       "grid_auto_rows": null,
       "grid_column": null,
       "grid_gap": null,
       "grid_row": null,
       "grid_template_areas": null,
       "grid_template_columns": null,
       "grid_template_rows": null,
       "height": null,
       "justify_content": null,
       "justify_items": null,
       "left": null,
       "margin": null,
       "max_height": null,
       "max_width": null,
       "min_height": null,
       "min_width": null,
       "object_fit": null,
       "object_position": null,
       "order": null,
       "overflow": null,
       "overflow_x": null,
       "overflow_y": null,
       "padding": null,
       "right": null,
       "top": null,
       "visibility": null,
       "width": null
      }
     }
    },
    "version_major": 2,
    "version_minor": 0
   }
  }
 },
 "nbformat": 4,
 "nbformat_minor": 5
}
